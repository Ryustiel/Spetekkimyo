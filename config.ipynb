{
 "cells": [
  {
   "cell_type": "code",
   "execution_count": 1706,
   "metadata": {},
   "outputs": [],
   "source": [
    "import os\n",
    "import json\n",
    "from IPython.display import HTML, display\n",
    "try:\n",
    "    (notebook_dir, e)\n",
    "except:\n",
    "    e = \"a --- b\"\n",
    "    notebook_dir = \".\""
   ]
  },
  {
   "cell_type": "code",
   "execution_count": 1707,
   "metadata": {},
   "outputs": [],
   "source": [
    "padding = {\n",
    "    \"ks_\": -100,\n",
    "    \"ts_\": -380,\n",
    "    \"ka_\": -280,\n",
    "    \"ko_\": -390,\n",
    "    \"ta_\": -250,\n",
    "    \"to_\": -250,\n",
    "    \"tb_\": -250,\n",
    "}"
   ]
  },
  {
   "cell_type": "code",
   "execution_count": 1708,
   "metadata": {},
   "outputs": [],
   "source": [
    "fea = '''\n",
    "feature ccmp {\n",
    "    script DFLT;\n",
    "    language dflt required;\n",
    "    script latn;\n",
    "    language dflt required;\n",
    "            \n",
    "    lookup directional_letters {\n",
    "        # Some letters have a completely different form depending on the surrounding letters\n",
    "        sub [o n f] b' by __ob;\n",
    "        sub [s k] b' by __sb;\n",
    "        sub b' by __ab;\n",
    "\n",
    "        sub [n] u' by u;  # Keep the regular u, ignore next letter\n",
    "        sub u' [a e p o b c y i n] by _u;\n",
    "    } directional_letters;\n",
    "\n",
    "    lookup build_vowels {\n",
    "        sub a by a_ _a;\n",
    "        sub o by o_ _o;\n",
    "        sub e by a_ _e;\n",
    "        sub p by a_ _p;\n",
    "        sub y by o_ _y;\n",
    "        sub __ob by o_ _b;\n",
    "        sub __ab by b_ _o;\n",
    "        sub __sb by _sb_ _o;\n",
    "    } build_vowels;\n",
    "\n",
    "    lookup vowel_by_vowel {\n",
    "        sub _a' o_' by _ao_;\n",
    "        sub _o' a_' by _oa_;\n",
    "    } vowel_by_vowel;\n",
    "            \n",
    "    lookup collapse_vowel_heads {\n",
    "        sub [_oa_]' a_' by [_oa_];\n",
    "        sub [_ao_]' o_' by [_ao_];\n",
    "    } collapse_vowel_heads;\n",
    "\n",
    "    lookup consonnant_by_vowel {\n",
    "        sub s' [a_ o_ _sb_ c] by s_;\n",
    "\n",
    "        sub f' [a_ c _sb_] by af;\n",
    "        sub k' [a_ c u _u _sb_] by ka_;\n",
    "\n",
    "        sub f' [o_] by of;\n",
    "        sub k' [o_] by ko_;\n",
    "    } consonnant_by_vowel;\n",
    "\n",
    "    lookup consonnant_by_preceding_vowel {\n",
    "        sub [_a _p] f' by af;\n",
    "        sub [_o _e] f' by of;\n",
    "    } consonnant_by_preceding_vowel ;\n",
    "\n",
    "    lookup vowel_by_consonnant {\n",
    "\n",
    "        sub s_ a_' by _sa_;\n",
    "        sub s_ o_' by _so_ o_;\n",
    "        sub s_ c' by _sc;\n",
    "        \n",
    "        sub [n of] [a_]' by _ofa_ [a_];  # ofa marker\n",
    "\n",
    "        sub _a' [n of] by _a _ofa_;  # mwm\n",
    "        sub _p' [n of] by _p _ofa_;\n",
    "\n",
    "        sub [n of] c' [n of] by _cnc_ c _cnc_;  # c\n",
    "        sub c' [n of] by c _cnc_;\n",
    "        sub [n of] c' by _cnc_ c;\n",
    "\n",
    "        sub [n of] u' by _ofa_ _afu; # afu marker\n",
    "        sub [ka_ af] u' by _afu;\n",
    "\n",
    "        sub [n af] o_' by _afo_ o_;  # afo marker\n",
    "        sub _o' [n af] by _o _afo_;\n",
    "        \n",
    "        sub _e' [n of s] by _en_;\n",
    "        sub _b' [n of s] by _bn_;\n",
    "\n",
    "        sub ka_ _u' by _ku;\n",
    "\n",
    "    } vowel_by_consonnant;\n",
    "\n",
    "    lookup collapse_consonnants {\n",
    "        sub k s by ks;\n",
    "        sub k s_ by ks_;\n",
    "        sub t s_ by ts_;\n",
    "        sub t a_ by ta_;\n",
    "        sub t o_ by to_;\n",
    "        sub t b_ by tb_;\n",
    "        sub t c by tc;\n",
    "    } collapse_consonnants;\n",
    "\n",
    "    lookup consonnant_codas {\n",
    "        sub [_a n af] s' by _as;\n",
    "        sub [_o of _en_] s' by _os;\n",
    "    } consonnant_codas;\n",
    "\n",
    "    lookup vowel_by_consonnant_codas {\n",
    "        sub _o' _os by _os_;\n",
    "    } vowel_by_consonnant_codas;\n",
    "} ccmp;\n",
    "'''"
   ]
  },
  {
   "cell_type": "code",
   "execution_count": 1709,
   "metadata": {},
   "outputs": [],
   "source": [
    "fea += '''\n",
    "feature kern {\n",
    "    script DFLT;\n",
    "    language dflt;\n",
    "    script latn;\n",
    "    language dflt;\n",
    "\n",
    "    pos [_a _o] [a_ o_] -80;  # VOYELLE A DROITE\n",
    "\n",
    "    pos [_so_] [o_] -80;  # S A GAUCHE\n",
    "    pos [s_ ks_] [_sa_ _so_ _sc _sb_] -80;\n",
    "\n",
    "    pos [_a _o n of af _os_ _en_] [_as _os] -80;  # S A DROITE\n",
    "\n",
    "    # horizontal consonnants\n",
    "    pos [_a _o _p _afu] [_ofa_ _afo_] -320;  # N A DROITE\n",
    "    pos [_a _o _p] [af of n] -70;\n",
    "\n",
    "    pos [_ofa_ _afo_] [a_ o_ _afu] -320;  # N A GAUCHE\n",
    "    pos [af of n] [a_ o_] -70;\n",
    "\n",
    "    pos c _cnc_ -200;\n",
    "    pos _cnc_ c -200;\n",
    "\n",
    "    pos [_ofa_ _afo_ _cnc_ _afu] [af of n] -70;\n",
    "    pos [af of n] [_ofa_ _afo_ _cnc_ _afu] -70;\n",
    "\n",
    "    pos ka_ c -40;\n",
    "    \n",
    "} kern;\n",
    "'''"
   ]
  },
  {
   "cell_type": "code",
   "execution_count": 1710,
   "metadata": {},
   "outputs": [
    {
     "name": "stdout",
     "output_type": "stream",
     "text": [
      "Imported 61 glyphs: a af a_ b b_ c e f i k ka_ ko_ ks ks_ n o of o_ p s s_ t ta_ tb_ tc tka_ tko_ tks_ to_ ts_ u y _a _afo_ _afu _ao_ _as _b _bn_ _cnc_ _e _en_ _fc _ku _nc _o _oa_ _ofa_ _ofu_ _os _os_ _p _sa_ _sb_ _sc _so_ _u _y __ab __ob __sb\n",
      "Imported features\n",
      "Font generated at d:\\Github\\spetekkimyo\\output\\test.otf\n"
     ]
    }
   ],
   "source": [
    "try: counter += 1\n",
    "except: counter = 0\n",
    "if not os.getcwd().endswith('bin'): \n",
    "    notebook_dir = os.getcwd()  # Actual working directory\n",
    "    %cd \".\\spetekkimyo\\ffpython\\bin\\\"\n",
    "json.dump(padding, open(f'{notebook_dir}\\\\spetekkimyo\\\\input\\\\padding.json', 'w'))\n",
    "with open(f'{notebook_dir}\\\\spetekkimyo\\\\input\\\\features.fea', 'w') as f: f.write(fea)\n",
    "!\"ffpython.exe\" \"..\\..\\generate.py\" \"{notebook_dir}\\output\\test.otf\""
   ]
  },
  {
   "cell_type": "code",
   "execution_count": 1711,
   "metadata": {},
   "outputs": [],
   "source": [
    "e = \"\"\"\n",
    "<span class=\"ss\">uau un nu nun fu ku tu</span> pb\n",
    "<br>\n",
    "<span class=\"ss\">ncn nc cn n nan taf tof fafon nena</span> pb\n",
    "\"\"\""
   ]
  },
  {
   "cell_type": "code",
   "execution_count": 1712,
   "metadata": {},
   "outputs": [
    {
     "data": {
      "text/html": [
       "<style>p {font-size: 80px;} @font-face {src:url('./output/test.otf?version=241');font-family:'test';} .ss {font-family:'test';}</style>\n",
       "<p>\n",
       "<span class=\"ss\">uau un nu nun fu ku tu</span> pb\n",
       "<br>\n",
       "<span class=\"ss\">ncn nc cn n nan taf tof fafon nena</span> pb\n",
       "</p>"
      ],
      "text/plain": [
       "<IPython.core.display.HTML object>"
      ]
     },
     "metadata": {},
     "output_type": "display_data"
    }
   ],
   "source": [
    "html = \"\"\"<style>p {font-size: 80px;} @font-face {src:url('./output/test.otf?version=%s');font-family:'test';} .ss {font-family:'test';}</style>\n",
    "<p>%s</p>\"\"\" % (counter, e)\n",
    "display(HTML(html))"
   ]
  },
  {
   "cell_type": "markdown",
   "metadata": {},
   "source": [
    "### Guidelines\n",
    "\n",
    "Epaisseur du trait : 80\n",
    "\n",
    "Largeur : **550** (275) -- consonants 320 - 440 (max d'épaisseur) - 550 (pointe droite)\n",
    "\n",
    "Hauteur standard : 320 -- max = 730 -- low = -240\n",
    "\n",
    "Départ : h=-12"
   ]
  }
 ],
 "metadata": {
  "kernelspec": {
   "display_name": "spetekkimyo-HTARb5-U-py3.13",
   "language": "python",
   "name": "python3"
  },
  "language_info": {
   "codemirror_mode": {
    "name": "ipython",
    "version": 3
   },
   "file_extension": ".py",
   "mimetype": "text/x-python",
   "name": "python",
   "nbconvert_exporter": "python",
   "pygments_lexer": "ipython3",
   "version": "3.13.2"
  }
 },
 "nbformat": 4,
 "nbformat_minor": 2
}
