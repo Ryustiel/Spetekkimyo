{
 "cells": [
  {
   "cell_type": "code",
   "execution_count": 400,
   "metadata": {},
   "outputs": [],
   "source": [
    "import os\n",
    "import json\n",
    "from IPython.display import HTML, display\n",
    "try:\n",
    "    (notebook_dir, e)\n",
    "except:\n",
    "    e = \"a --- b\"\n",
    "    notebook_dir = \".\""
   ]
  },
  {
   "cell_type": "code",
   "execution_count": 401,
   "metadata": {},
   "outputs": [],
   "source": [
    "padding = {\n",
    "    \"ks_\": -100,\n",
    "    \"ka_\": -280,\n",
    "    \"ta_\": -250,\n",
    "}"
   ]
  },
  {
   "cell_type": "code",
   "execution_count": 402,
   "metadata": {},
   "outputs": [],
   "source": [
    "fea = '''\n",
    "feature ccmp {\n",
    "    script DFLT;\n",
    "    language dflt required;\n",
    "    script latn;\n",
    "    language dflt required;\n",
    "            \n",
    "    lookup build_vowels {\n",
    "        sub a by a_ _a;\n",
    "        sub o by o_ _o;\n",
    "        sub e by a_ _e;\n",
    "        sub p by a_ _p;\n",
    "    } build_vowels;\n",
    "\n",
    "    lookup vowel_by_vowel {\n",
    "        sub _a' o_' by _ao_;\n",
    "        sub _o' a_' by _oa_;\n",
    "    } vowel_by_vowel;\n",
    "            \n",
    "    lookup collapse_vowel_heads {\n",
    "        sub [_oa_]' a_' by [_oa_];\n",
    "        sub [_ao_]' o_' by [_ao_];\n",
    "    } collapse_vowel_heads;\n",
    "\n",
    "    lookup consonnant_by_vowel {\n",
    "        sub s' [a_ o_] by s_;\n",
    "        sub f' [a_] by af;\n",
    "        sub f' [o_] by of;\n",
    "        sub k' [a_] by ka_;\n",
    "    } consonnant_by_vowel;\n",
    "\n",
    "    lookup consonnant_by_preceding_vowel {\n",
    "        sub [_a _p] f' by af;\n",
    "        sub [_o _e] f' by of;\n",
    "    } consonnant_by_preceding_vowel ;\n",
    "\n",
    "    lookup vowel_by_consonnant {\n",
    "        sub [s_] a_' by _sa_;\n",
    "        sub s_ o_' by _so_ o_;\n",
    "\n",
    "        sub [n of] [a_]' by _ofa_ [a_];  # ofa marker\n",
    "\n",
    "        sub _a' [n of] by _a _ofa_;  # mwm\n",
    "        sub _p' [n of] by _p _ofa_;\n",
    "        sub _e' [n of] by _en_;\n",
    "\n",
    "        sub [n af] [o_]' by _afo_ [o_];  # afo marker\n",
    "        sub [_o]' [n af] by [_o] _afo_;\n",
    "\n",
    "    } vowel_by_consonnant;\n",
    "\n",
    "    lookup collapse_consonnants {\n",
    "        sub k s by ks;\n",
    "        sub k s_ by ks_;\n",
    "        sub t a_ by ta_;\n",
    "    } collapse_consonnants;\n",
    "\n",
    "    lookup consonnant_codas {\n",
    "        sub [_a n af] s' by _as;\n",
    "        sub [_o of] s' by _os;\n",
    "    } consonnant_codas;\n",
    "\n",
    "    lookup vowel_by_consonnant_codas {\n",
    "        sub _o' _os by _os_;\n",
    "    } vowel_by_consonnant_codas;\n",
    "} ccmp;\n",
    "'''"
   ]
  },
  {
   "cell_type": "code",
   "execution_count": 403,
   "metadata": {},
   "outputs": [],
   "source": [
    "fea += '''\n",
    "feature kern {\n",
    "    script DFLT;\n",
    "    language dflt;\n",
    "    script latn;\n",
    "    language dflt;\n",
    "\n",
    "    pos [_a _o] [a_ o_] -80;  # VOYELLE A DROITE\n",
    "\n",
    "    pos [_so_] [o_] -80;  # S A GAUCHE\n",
    "    pos [s_ ks_] [_sa_ _so_] -80;\n",
    "\n",
    "    pos [_a _o n of af _os_] [_as _os] -80;  # S A DROITE\n",
    "\n",
    "    # horizontal consonnants\n",
    "    pos [_a _o _p] [_ofa_ _afo_] -320;  # N A DROITE\n",
    "    pos [_ofa_ _afo_] [af of n] -70;\n",
    "    pos [_a _o _p] [af of n] -70;\n",
    "\n",
    "    pos [_ofa_ _afo_] [a_ o_] -320;  # N A GAUCHE\n",
    "    pos [af of n] [_ofa_ _afo_] -70;\n",
    "    pos [af of n] [a_ o_] -70;\n",
    "    \n",
    "} kern;\n",
    "'''"
   ]
  },
  {
   "cell_type": "code",
   "execution_count": 404,
   "metadata": {},
   "outputs": [
    {
     "name": "stdout",
     "output_type": "stream",
     "text": [
      "Imported 37 glyphs: a af a_ b c e f i k ka_ ks ks_ n o of o_ p s s_ t ta_ u y _a _afo_ _ao_ _as _e _en_ _o _oa_ _ofa_ _os _os_ _p _sa_ _so_\n",
      "Imported features\n",
      "Font generated at d:\\Github\\spetekkimyo\\output\\test.otf\n"
     ]
    }
   ],
   "source": [
    "try: counter += 1\n",
    "except: counter = 0\n",
    "if not os.getcwd().endswith('bin'): \n",
    "    notebook_dir = os.getcwd()  # Actual working directory\n",
    "    %cd \".\\spetekkimyo\\ffpython\\bin\\\"\n",
    "json.dump(padding, open(f'{notebook_dir}\\\\spetekkimyo\\\\input\\\\padding.json', 'w'))\n",
    "with open(f'{notebook_dir}\\\\spetekkimyo\\\\input\\\\features.fea', 'w') as f: f.write(fea)\n",
    "!\"ffpython.exe\" \"..\\..\\generate.py\" \"{notebook_dir}\\output\\test.otf\""
   ]
  },
  {
   "cell_type": "code",
   "execution_count": 405,
   "metadata": {},
   "outputs": [],
   "source": [
    "e = \"\"\"\n",
    "<span class=\"ss\">npn</span>\n",
    "lpbct\n",
    "<span class=\"ss\">ka tp</span>\n",
    "\"\"\""
   ]
  },
  {
   "cell_type": "code",
   "execution_count": 406,
   "metadata": {},
   "outputs": [
    {
     "data": {
      "text/html": [
       "<style>p {font-size: 120px;} @font-face {src:url('./output/test.otf?version=57');font-family:'test';} .ss {font-family:'test';}</style>\n",
       "<p>\n",
       "<span class=\"ss\">npn</span>\n",
       "lpbct\n",
       "<span class=\"ss\">ka tp</span>\n",
       "</p>"
      ],
      "text/plain": [
       "<IPython.core.display.HTML object>"
      ]
     },
     "metadata": {},
     "output_type": "display_data"
    }
   ],
   "source": [
    "html = \"\"\"<style>p {font-size: 120px;} @font-face {src:url('./output/test.otf?version=%s');font-family:'test';} .ss {font-family:'test';}</style>\n",
    "<p>%s</p>\"\"\" % (counter, e)\n",
    "display(HTML(html))"
   ]
  },
  {
   "cell_type": "markdown",
   "metadata": {},
   "source": [
    "### Guidelines\n",
    "\n",
    "Epaisseur du trait : 80\n",
    "\n",
    "Largeur : **550** (275) -- consonants 320 - 440 (max d'épaisseur) - 550 (pointe droite)\n",
    "\n",
    "Hauteur standard : 320 -- max = 730 -- low = -240\n",
    "\n",
    "Départ : h=-12"
   ]
  }
 ],
 "metadata": {
  "kernelspec": {
   "display_name": "spetekkimyo-HTARb5-U-py3.13",
   "language": "python",
   "name": "python3"
  },
  "language_info": {
   "codemirror_mode": {
    "name": "ipython",
    "version": 3
   },
   "file_extension": ".py",
   "mimetype": "text/x-python",
   "name": "python",
   "nbconvert_exporter": "python",
   "pygments_lexer": "ipython3",
   "version": "3.13.2"
  }
 },
 "nbformat": 4,
 "nbformat_minor": 2
}
