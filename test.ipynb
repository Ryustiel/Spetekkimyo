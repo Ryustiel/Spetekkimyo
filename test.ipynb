{
 "cells": [
  {
   "cell_type": "code",
   "execution_count": 1,
   "metadata": {},
   "outputs": [
    {
     "name": "stdout",
     "output_type": "stream",
     "text": [
      "hello\n",
      "y.eps\n",
      "Font successfully generated at D:\\Github\\spetekkimyo\\spetekkimyo\\output\\test.otf\n"
     ]
    }
   ],
   "source": [
    "!\".\\spetekkimyo\\ffpython\\bin\\ffpython.exe\" \".\\spetekkimyo\\generate.py\" \"output/test.otf\""
   ]
  },
  {
   "cell_type": "code",
   "execution_count": 2,
   "metadata": {},
   "outputs": [
    {
     "data": {
      "text/html": [
       "<style>@font-face {font-family:'test';src:url('./output/test.ttf');} p {font-size: 36px;} .ss {font-family:'test';}</style>\n",
       "<p><span class=\"ss\">Your custom text</span> here</p>\n"
      ],
      "text/plain": [
       "<IPython.core.display.HTML object>"
      ]
     },
     "metadata": {},
     "output_type": "display_data"
    }
   ],
   "source": [
    "%%html\n",
    "<style>@font-face {font-family:'test';src:url('./output/test.ttf');} p {font-size: 36px;} .ss {font-family:'test';}</style>\n",
    "<p><span class=\"ss\">Your custom text</span> here</p>"
   ]
  }
 ],
 "metadata": {
  "kernelspec": {
   "display_name": "spetekkimyo-HTARb5-U-py3.13",
   "language": "python",
   "name": "python3"
  },
  "language_info": {
   "codemirror_mode": {
    "name": "ipython",
    "version": 3
   },
   "file_extension": ".py",
   "mimetype": "text/x-python",
   "name": "python",
   "nbconvert_exporter": "python",
   "pygments_lexer": "ipython3",
   "version": "3.13.2"
  }
 },
 "nbformat": 4,
 "nbformat_minor": 2
}
