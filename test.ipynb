{
 "cells": [
  {
   "cell_type": "code",
   "execution_count": 6,
   "metadata": {},
   "outputs": [
    {
     "name": "stderr",
     "output_type": "stream",
     "text": [
      "Traceback (most recent call last):\n",
      "  File \"g:\\GitHub\\Spetekkimyo\\spetekkimyo\\generate.py\", line 11, in <module>\n",
      "    import fontforge\n",
      "ImportError: DLL load failed while importing fontforge: La procédure spécifiée est introuvable.\n"
     ]
    }
   ],
   "source": [
    "!\".\\spetekkimyo\\ffpython\\bin\\ffpython.exe\" \".\\spetekkimyo\\generate.py\" \"output/test.otf\""
   ]
  },
  {
   "cell_type": "markdown",
   "metadata": {},
   "source": [
    "1. Import font to fontforge\n",
    "2. Extract 4 characters (c, p, b, P) to have height references\n",
    "3. Create a new font with those 4 characters using the fontforge shit\n",
    "4. Add a lookup to map like p to display c instead\n",
    "5. Now create actual letters (and decide on which letter to add)"
   ]
  },
  {
   "cell_type": "code",
   "execution_count": 1,
   "metadata": {},
   "outputs": [
    {
     "data": {
      "text/html": [
       "<style>@font-face {font-family:'test';src:url('./output/test.ttf');} p {font-size: 36px;} .ss {font-family:'test';}</style>\n",
       "<p><span class=\"ss\">Your custom text</span> herep</p>\n"
      ],
      "text/plain": [
       "<IPython.core.display.HTML object>"
      ]
     },
     "metadata": {},
     "output_type": "display_data"
    }
   ],
   "source": [
    "%%html\n",
    "<style>@font-face {font-family:'test';src:url('./output/test.ttf');} p {font-size: 36px;} .ss {font-family:'test';}</style>\n",
    "<p><span class=\"ss\">Your custom text</span> herep</p>"
   ]
  }
 ],
 "metadata": {
  "kernelspec": {
   "display_name": ".venv",
   "language": "python",
   "name": "python3"
  },
  "language_info": {
   "codemirror_mode": {
    "name": "ipython",
    "version": 3
   },
   "file_extension": ".py",
   "mimetype": "text/x-python",
   "name": "python",
   "nbconvert_exporter": "python",
   "pygments_lexer": "ipython3",
   "version": "3.13.2"
  }
 },
 "nbformat": 4,
 "nbformat_minor": 2
}
