{
 "cells": [
  {
   "cell_type": "code",
   "execution_count": 33,
   "metadata": {},
   "outputs": [],
   "source": [
    "import os\n",
    "from IPython.display import HTML, display"
   ]
  },
  {
   "cell_type": "code",
   "execution_count": 34,
   "metadata": {},
   "outputs": [
    {
     "name": "stdout",
     "output_type": "stream",
     "text": [
      "Imported 5 glyphs: b c p t y\n",
      "Imported features\n",
      "Font generated at g:\\GitHub\\Spetekkimyo\\output\\test.otf\n"
     ]
    }
   ],
   "source": [
    "try: counter += 1\n",
    "except: counter = 0\n",
    "if not os.getcwd().endswith('bin'): \n",
    "    notebook_dir = os.getcwd()  # Actual working directory\n",
    "    %cd \".\\spetekkimyo\\ffpython\\bin\\\"\n",
    "!\"ffpython.exe\" \"..\\..\\generate.py\" \"{notebook_dir}\\output\\test.otf\""
   ]
  },
  {
   "cell_type": "code",
   "execution_count": 35,
   "metadata": {},
   "outputs": [],
   "source": [
    "e = \"\"\"\n",
    "pbct\n",
    "---\n",
    "pbct\n",
    "\"\"\""
   ]
  },
  {
   "cell_type": "code",
   "execution_count": 36,
   "metadata": {},
   "outputs": [
    {
     "data": {
      "text/html": [
       "<style>@font-face {font-family:'test';src:url('./output/test.otf?version=8');} p {font-size: 36px;} .ss {font-family:'test';}</style>\n",
       "<p><span class=\"ss\">\n",
       "pbct\n",
       "</span>\n",
       "pbct\n",
       "</p>"
      ],
      "text/plain": [
       "<IPython.core.display.HTML object>"
      ]
     },
     "metadata": {},
     "output_type": "display_data"
    }
   ],
   "source": [
    "html = \"\"\"<style>@font-face {font-family:'test';src:url('./output/test.otf?version=%s');} p {font-size: 36px;} .ss {font-family:'test';}</style>\n",
    "<p><span class=\"ss\">%s</span>%s</p>\"\"\" % (counter, e.split(\"---\")[0], e.split(\"---\")[1])\n",
    "display(HTML(html))"
   ]
  }
 ],
 "metadata": {
  "kernelspec": {
   "display_name": ".venv",
   "language": "python",
   "name": "python3"
  },
  "language_info": {
   "codemirror_mode": {
    "name": "ipython",
    "version": 3
   },
   "file_extension": ".py",
   "mimetype": "text/x-python",
   "name": "python",
   "nbconvert_exporter": "python",
   "pygments_lexer": "ipython3",
   "version": "3.13.2"
  }
 },
 "nbformat": 4,
 "nbformat_minor": 2
}
